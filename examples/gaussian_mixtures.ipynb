{
 "cells": [
  {
   "cell_type": "code",
   "execution_count": 14,
   "id": "homeless-donor",
   "metadata": {},
   "outputs": [],
   "source": [
    "\"\"\"\n",
    "Today we will be taking a look at gaussian mixture models, one of the most expansive things SeaLion has to \n",
    "offer. Before proceeding I recommend you know what KMeans are, as Gaussian Mixture Models (GMMs) are really \n",
    "just an expanded version of KMeans. GMMs are very useful for unsupervised clustering and anomaly detection.\n",
    "\"\"\"\n",
    "\n",
    "# first we'll import, then I'll talk some more about GMMs\n",
    "import sealion as sl \n",
    "from sealion.mixtures import GaussianMixture\n",
    "from sealion.DimensionalityReduction import PCA # we'll need this later"
   ]
  },
  {
   "cell_type": "code",
   "execution_count": 21,
   "id": "narrative-viewer",
   "metadata": {},
   "outputs": [],
   "source": [
    "\"\"\"\n",
    "In KMeans, your data is assumed to be circles the exact same size and shape. What if you do have circles, but\n",
    "your data also has ovals - some of which are tall, some are skinny, some are big, some are small, etc. Basically \n",
    "you have clusters of the same general oval/circle shape but in different sizes and shapes. \n",
    "\n",
    "These clusters are actually gaussian (normal) distributions. You can keep in mind their center by finding their\n",
    "mean, and you can also learn about their shape (tall or wide) by finding their standard deviation. Some clusters\n",
    "maybe the same shape but bigger than others, and that is also accounted for by a mixture weight coefficient\n",
    "multiplied by each gaussian distribution. There are as many gaussian distributions in your data as there are \n",
    "clusters. \n",
    "\n",
    "If you are using data that is in more than one dimension, you need to use a multivariate gaussian distribution\n",
    "(just means a gaussian distribution extended to higher dimensions) where the mean will be a vector and the standard deviation \n",
    "will be replaced with the covariance matrix. The way these parameters are found is through an iterative algorithm \n",
    "(first start with a guess, then improve) known as Expectation-Maximization, which you may want to read about. \n",
    "\n",
    "To recap - GMMs is just KMeans but a clusters shape and size are also taken into consideration.\n",
    "\"\"\"\n",
    "\n",
    "# before we use a gaussian mixture, we'll probably want some data\n",
    "# for that we can use the iris dataset\n",
    "from sklearn.datasets import load_iris # in the interest of time, load it here \n",
    "from sklearn.model_selection import train_test_split\n",
    "\n",
    "X, y = load_iris()['data'], load_iris()['target']\n",
    "\n",
    "pca = PCA(2)\n",
    "X = pca.transform(X) # transform X to 2D so we can visualize it later\n",
    "\n",
    "X_train, X_test, y_train, y_test = train_test_split(X, y, test_size = 0.2, random_state = 42)"
   ]
  },
  {
   "cell_type": "code",
   "execution_count": 22,
   "id": "southwest-combine",
   "metadata": {},
   "outputs": [],
   "source": [
    "# you may be asking why we have to have a train and test set\n",
    "# the reason why is because we can actually train a GMM on X_train and then ask it to predict on X_test. \n",
    "# It will just use the parameters it learn from X_train and apply that to X_test when predicting .\n",
    "# we'll go over how it predicts in a bit. \n",
    "\n",
    "# to set up the GMM : \n",
    "gmm = GaussianMixture(n_clusters = 3, retries = 3, max_iters = 200, kmeans_init = True) \n",
    "\n",
    "# let's go over each of the parameters one by one : \n",
    "\n",
    "# n_clusters : the number of clusters you think your data has. We know it is 3\n",
    "\n",
    "# retries : GMMs often times, just like KMeans, vary a lot on the initialization of its parameters\n",
    "# so we may need to retry it mulitple times and keep the best solution. The default is 3 here on the number\n",
    "# of times we will retry Expectation-Maximization (EM).\n",
    "\n",
    "# max_iters : for each retry we run the EM algorithm. The maximum amount of iterations for a given run of \n",
    "# EM is this parameter. Default 200. \n",
    "\n",
    "# kmeans_init : to find the means initialization of a GMM, you can actually run KMeans on the data and then use  \n",
    "# the centroids found as the mean initialization of the GMM. This is typically quicker than starting with\n",
    "# a random guess. Default is True here. If your data is one-dimensional, or univariate, kmeans initialization \n",
    "# isn't possible. If you are going to use many retries, setting this parameter as True may not always be a \n",
    "# good option because it may lead to similar solutions each time. "
   ]
  },
  {
   "cell_type": "code",
   "execution_count": 23,
   "id": "interracial-assets",
   "metadata": {},
   "outputs": [],
   "source": [
    "# to train this GMM : \n",
    "gmm.fit(X_train) # it is running the algorithm 3 times to find the best parameters here "
   ]
  },
  {
   "cell_type": "code",
   "execution_count": 24,
   "id": "necessary-amateur",
   "metadata": {},
   "outputs": [
    {
     "data": {
      "image/png": "[encoded data removed]",
      "text/plain": [
       "<Figure size 432x288 with 1 Axes>"
      ]
     },
     "metadata": {
      "needs_background": "light"
     },
     "output_type": "display_data"
    }
   ],
   "source": [
    "# we can visualize this!\n",
    "color_dict = {0 : \"green\", 1 : \"red\", 2 : \"blue\"} # cluster : color in plot\n",
    "gmm.visualize_clustering(color_dict) \n",
    "\n",
    "# looks pretty good!"
   ]
  },
  {
   "cell_type": "code",
   "execution_count": 25,
   "id": "adjacent-application",
   "metadata": {},
   "outputs": [
    {
     "data": {
      "text/plain": [
       "array([2, 0, 1, 2, 2, 0, 2, 1, 1, 2, 1, 0, 0, 0, 0, 2, 1, 2, 2, 1, 0, 1,\n",
       "       0, 1, 1, 1, 1, 1, 0, 0])"
      ]
     },
     "execution_count": 25,
     "metadata": {},
     "output_type": "execute_result"
    }
   ],
   "source": [
    "# to predict on this GMM : \n",
    "gmm.predict(X_test)\n",
    "\n",
    "# here's how the predict method worked : \n",
    "# For each data point, it measures its probability to being in a certain cluster by putting it on that\n",
    "# gaussian function for that cluster (based on the parameters the GMM learnt).\n",
    "# Then whichever cluster has the highest probability for a given data point is given as the prediction \n",
    "# for that data point. "
   ]
  },
  {
   "cell_type": "code",
   "execution_count": 29,
   "id": "disturbed-characteristic",
   "metadata": {},
   "outputs": [
    {
     "data": {
      "text/plain": [
       "array([[2.35443030e-079, 7.10948298e-002, 9.28905170e-001],\n",
       "       [1.00000000e+000, 9.73265516e-057, 1.14087629e-035],\n",
       "       [2.10892702e-238, 1.00000000e+000, 6.02151249e-014],\n",
       "       [1.04729178e-074, 1.67352686e-002, 9.83264731e-001],\n",
       "       [1.50964169e-092, 2.78163369e-002, 9.72183663e-001],\n",
       "       [1.00000000e+000, 7.51784671e-049, 2.38875998e-030],\n",
       "       [2.49810743e-039, 1.45028835e-006, 9.99998550e-001],\n",
       "       [2.00439528e-119, 8.27564339e-001, 1.72435661e-001],\n",
       "       [1.53856802e-084, 9.12321919e-001, 8.76780815e-002],\n",
       "       [1.25640588e-050, 7.73940849e-005, 9.99922606e-001],\n",
       "       [3.04070008e-108, 6.41656542e-001, 3.58343458e-001],\n",
       "       [1.00000000e+000, 4.04967276e-040, 1.04636174e-024],\n",
       "       [1.00000000e+000, 1.66206405e-058, 5.05328712e-038],\n",
       "       [1.00000000e+000, 5.96262517e-041, 4.19620278e-025],\n",
       "       [1.00000000e+000, 2.28499308e-055, 1.33691976e-035],\n",
       "       [1.30908055e-081, 9.37453780e-004, 9.99062546e-001],\n",
       "       [2.63206679e-150, 9.99998522e-001, 1.47756940e-006],\n",
       "       [3.22820983e-050, 9.96586303e-004, 9.99003414e-001],\n",
       "       [2.09485936e-070, 6.54359937e-002, 9.34564006e-001],\n",
       "       [8.19108245e-142, 9.99998119e-001, 1.88054473e-006],\n",
       "       [1.00000000e+000, 3.10309750e-038, 4.94058827e-023],\n",
       "       [5.72532376e-095, 7.12985874e-001, 2.87014126e-001],\n",
       "       [1.00000000e+000, 6.38149382e-043, 4.13337400e-026],\n",
       "       [1.00681161e-139, 9.99996680e-001, 3.31985575e-006],\n",
       "       [6.53177501e-182, 9.95267339e-001, 4.73266096e-003],\n",
       "       [3.68733818e-124, 9.93112308e-001, 6.88769158e-003],\n",
       "       [2.91145447e-151, 9.99999844e-001, 1.56180246e-007],\n",
       "       [2.38422376e-158, 9.99994150e-001, 5.84964867e-006],\n",
       "       [1.00000000e+000, 1.66350269e-038, 2.14922573e-023],\n",
       "       [1.00000000e+000, 3.16838627e-037, 3.34333718e-022]])"
      ]
     },
     "execution_count": 29,
     "metadata": {},
     "output_type": "execute_result"
    }
   ],
   "source": [
    "# to get the probability that a given data point belongs to any given cluster you can do \n",
    "probability_matrix = gmm.soft_predict(X_test) # soft stands for probabilities\n",
    "probability_matrix"
   ]
  },
  {
   "cell_type": "code",
   "execution_count": 30,
   "id": "nonprofit-sculpture",
   "metadata": {},
   "outputs": [
    {
     "name": "stdout",
     "output_type": "stream",
     "text": [
      "AIC :  459.088623046875\n",
      "BIC :  484.1760559082031\n"
     ]
    }
   ],
   "source": [
    "# here the Nth row and the kth column gives you the probability the Nth data point in X_test belonging to the \n",
    "# kth cluster. \n",
    "\n",
    "# before we move onto GMMs, you're probably wondering about how to find the value k (n_clusters). Luckily, you can \n",
    "# use the same elbow method as you did in KMeans. However, you cannot just use the same inertia scoring, because\n",
    "# if the clusters are all different sizes and shapes, then obviously the distances will vary for each cluster.\n",
    "\n",
    "# instead you can use metrics called BIC and AIC (lower is better for both) to evaluate a GMM \n",
    "# both are based on how well the likelihood function of the GMM has been maximized\n",
    "\n",
    "print(\"AIC : \", gmm.aic())\n",
    "print(\"BIC : \", gmm.bic())"
   ]
  },
  {
   "cell_type": "code",
   "execution_count": 31,
   "id": "quiet-network",
   "metadata": {},
   "outputs": [
    {
     "data": {
      "image/png": "[encoded data removed]",
      "text/plain": [
       "<Figure size 432x288 with 1 Axes>"
      ]
     },
     "metadata": {
      "needs_background": "light"
     },
     "output_type": "display_data"
    }
   ],
   "source": [
    "# we can then visualize the AIC and BIC for a GMM when the number of clusters it has is from 2 - 5\n",
    "gmm.visualize_elbow_curve(min_n_clusters = 2, max_n_clusters = 5)"
   ]
  },
  {
   "cell_type": "code",
   "execution_count": 11,
   "id": "brazilian-wallet",
   "metadata": {},
   "outputs": [
    {
     "data": {
      "text/plain": [
       "array([1.        , 1.        , 0.99999944, 1.        , 1.        ,\n",
       "       0.99999982, 0.99996967, 1.        , 1.        , 1.        ,\n",
       "       0.99999799, 0.99957347, 0.99990354, 1.        , 1.        ,\n",
       "       0.99998942, 0.86388692, 0.99704567, 0.99999675, 1.        ,\n",
       "       0.99977442, 1.        , 0.96980843, 1.        , 1.        ,\n",
       "       0.99975049, 1.        , 1.        , 1.        , 0.99963701,\n",
       "       0.99939955, 1.        , 1.        , 1.        , 0.9981506 ,\n",
       "       1.        , 0.99986607, 0.99998957, 1.        , 0.99998066,\n",
       "       1.        , 1.        , 0.97369134, 0.99999799, 0.99990489,\n",
       "       0.9164855 , 1.        , 0.98493915, 1.        , 0.99999463,\n",
       "       0.99999706, 1.        , 1.        , 0.99994395, 0.75394813,\n",
       "       1.        , 1.        , 1.        , 1.        , 0.80661509,\n",
       "       0.99999974, 1.        , 0.99349916, 0.99999939, 1.        ,\n",
       "       0.99780742, 1.        , 1.        , 0.99983737, 0.99968626,\n",
       "       1.        , 1.        , 1.        , 0.92116832, 1.        ,\n",
       "       1.        , 0.99999981, 1.        , 1.        , 0.98261955,\n",
       "       0.99699847, 0.99693602, 0.99999844, 1.        , 1.        ,\n",
       "       0.99999802, 0.99957475, 0.99998316, 0.99999997, 0.99281319,\n",
       "       0.99804382, 1.        , 0.99991267, 0.90883047, 1.        ,\n",
       "       0.99992471, 0.99999995, 0.99998387, 1.        , 0.99999296,\n",
       "       1.        , 0.99908237, 1.        , 1.        , 1.        ,\n",
       "       0.99963568, 0.99999988, 0.9999414 , 0.99986167, 0.99883697,\n",
       "       0.98819878, 0.99999616, 0.9999999 , 0.99565677, 1.        ,\n",
       "       0.99999782, 0.99989204, 1.        , 0.99996295, 0.99999994])"
      ]
     },
     "execution_count": 11,
     "metadata": {},
     "output_type": "execute_result"
    }
   ],
   "source": [
    "# we see a clear elbow at three, so we'll stick with it\n",
    "\n",
    "# Onto anomaly detection! An anomaly is simply something we think doesn't fit the general pattern of the data. \n",
    "# A point for example that is in a cluster can be an anomaly if it is very far from the mean of the cluster\n",
    "# is in and all the other clusters. We can get the \"confidence\" a certain point belongs in the data based on \n",
    "# the probability it has in the cluster it has the highest probability in (and ultimately chosen in.) Think \n",
    "# about it - points that are far from all of the clusters will have a low probability of belonging in the data, \n",
    "# whereas points that are really close to the mean of a cluster will have a high probability of belonging in the data.\n",
    "# We classify the former as anomalies.\n",
    "\n",
    "# to find the \"confidence\" each data point belongs in the data you can do : \n",
    "confidence_samples = gmm.confidence_samples(X_train) # we'll use X_train here"
   ]
  },
  {
   "cell_type": "code",
   "execution_count": 13,
   "id": "durable-evanescence",
   "metadata": {},
   "outputs": [
    {
     "data": {
      "text/plain": [
       "array([False, False, False, False, False, False, False, False, False,\n",
       "       False, False, False, False, False, False, False,  True, False,\n",
       "       False, False, False, False,  True, False, False, False, False,\n",
       "       False, False, False, False, False, False, False, False, False,\n",
       "       False, False, False, False, False, False,  True, False, False,\n",
       "        True, False,  True, False, False, False, False, False, False,\n",
       "        True, False, False, False, False,  True, False, False, False,\n",
       "       False, False, False, False, False, False, False, False, False,\n",
       "       False,  True, False, False, False, False, False,  True, False,\n",
       "       False, False, False, False, False, False, False, False,  True,\n",
       "       False, False, False,  True, False, False, False, False, False,\n",
       "       False, False, False, False, False, False, False, False, False,\n",
       "       False, False,  True, False, False, False, False, False, False,\n",
       "       False, False, False])"
      ]
     },
     "execution_count": 13,
     "metadata": {},
     "output_type": "execute_result"
    }
   ],
   "source": [
    "# the points which are in the lowest _threshold_ (you choose this) percent of the confidences_samples\n",
    "# are probably the outliers. Hence we have a built in method for this :  \n",
    "\n",
    "gmm.anomaly_detect(X_train, threshold = 10) # returns whether each sample in X_train is an anomaly or not"
   ]
  },
  {
   "cell_type": "code",
   "execution_count": null,
   "id": "dangerous-developer",
   "metadata": {},
   "outputs": [],
   "source": [
    "# essentially the threshold parameter is the percent of the data you think are anomalies. \n",
    "\n",
    "# Well that's it for this tutorial. We hope you enjoyed it! Thanks!"
   ]
  }
 ],
 "metadata": {
  "kernelspec": {
   "display_name": "Python 3",
   "language": "python",
   "name": "python3"
  },
  "language_info": {
   "codemirror_mode": {
    "name": "ipython",
    "version": 3
   },
   "file_extension": ".py",
   "mimetype": "text/x-python",
   "name": "python",
   "nbconvert_exporter": "python",
   "pygments_lexer": "ipython3",
   "version": "3.8.7"
  }
 },
 "nbformat": 4,
 "nbformat_minor": 5
}
